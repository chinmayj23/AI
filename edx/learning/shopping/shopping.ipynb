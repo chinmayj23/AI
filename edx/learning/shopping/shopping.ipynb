{
  "nbformat": 4,
  "nbformat_minor": 0,
  "metadata": {
    "colab": {
      "name": "shopping.ipynb",
      "provenance": [],
      "authorship_tag": "ABX9TyOATUYTGVk7yN43fayAN/DF",
      "include_colab_link": true
    },
    "kernelspec": {
      "name": "python3",
      "display_name": "Python 3"
    }
  },
  "cells": [
    {
      "cell_type": "markdown",
      "metadata": {
        "id": "view-in-github",
        "colab_type": "text"
      },
      "source": [
        "<a href=\"https://colab.research.google.com/github/chinmayj23/AI/blob/master/edx/learning/shopping/shopping.ipynb\" target=\"_parent\"><img src=\"https://colab.research.google.com/assets/colab-badge.svg\" alt=\"Open In Colab\"/></a>"
      ]
    },
    {
      "cell_type": "code",
      "metadata": {
        "id": "W6Tl5_HGdIWE"
      },
      "source": [
        "\n",
        "import csv\n",
        "import sys"
      ],
      "execution_count": 8,
      "outputs": []
    },
    {
      "cell_type": "code",
      "metadata": {
        "id": "yzUvCQkhdNzt"
      },
      "source": [
        "from sklearn.model_selection import train_test_split\n",
        "from sklearn.neighbors import KNeighborsClassifier"
      ],
      "execution_count": 9,
      "outputs": []
    },
    {
      "cell_type": "code",
      "metadata": {
        "id": "1rLeMfD8dS7T"
      },
      "source": [
        "TEST_SIZE = 0.4"
      ],
      "execution_count": 10,
      "outputs": []
    },
    {
      "cell_type": "code",
      "metadata": {
        "id": "mQ2IzCxTdU_r"
      },
      "source": [
        "def main():\n",
        "\n",
        "    # Check command-line arguments\n",
        "    if len(sys.argv) != 2:\n",
        "        sys.exit(\"Usage: python shopping.py data\")\n",
        "\n",
        "    # Load data from spreadsheet and split into train and test sets\n",
        "    evidence, labels = load_data(sys.argv[1])\n",
        "    X_train, X_test, y_train, y_test = train_test_split(\n",
        "        evidence, labels, test_size=TEST_SIZE\n",
        "    )\n",
        "\n",
        "    # Train model and make predictions\n",
        "    model = train_model(X_train, y_train)\n",
        "    predictions = model.predict(X_test)\n",
        "    sensitivity, specificity = evaluate(y_test, predictions)\n",
        "\n",
        "    # Print results\n",
        "    print(f\"Correct: {(y_test == predictions).sum()}\")\n",
        "    print(f\"Incorrect: {(y_test != predictions).sum()}\")\n",
        "    print(f\"True Positive Rate: {100 * sensitivity:.2f}%\")\n",
        "    print(f\"True Negative Rate: {100 * specificity:.2f}%\")"
      ],
      "execution_count": 11,
      "outputs": []
    },
    {
      "cell_type": "code",
      "metadata": {
        "id": "CmsygLiJdYs7"
      },
      "source": [
        "def load_data(filename):\n",
        "    \"\"\"\n",
        "    Load shopping data from a CSV file `filename` and convert into a list of\n",
        "    evidence lists and a list of labels. Return a tuple (evidence, labels).\n",
        "    evidence should be a list of lists, where each list contains the\n",
        "    following values, in order:\n",
        "        - Administrative, an integer\n",
        "        - Administrative_Duration, a floating point number\n",
        "        - Informational, an integer\n",
        "        - Informational_Duration, a floating point number\n",
        "        - ProductRelated, an integer\n",
        "        - ProductRelated_Duration, a floating point number\n",
        "        - BounceRates, a floating point number\n",
        "        - ExitRates, a floating point number\n",
        "        - PageValues, a floating point number\n",
        "        - SpecialDay, a floating point number\n",
        "        - Month, an index from 0 (January) to 11 (December)\n",
        "        - OperatingSystems, an integer\n",
        "        - Browser, an integer\n",
        "        - Region, an integer\n",
        "        - TrafficType, an integer\n",
        "        - VisitorType, an integer 0 (not returning) or 1 (returning)\n",
        "        - Weekend, an integer 0 (if false) or 1 (if true)\n",
        "    labels should be the corresponding list of labels, where each label\n",
        "    is 1 if Revenue is true, and 0 otherwise.\n",
        "    \"\"\"\n",
        "    evidence, labels = [], []\n",
        "    month_to_int = dict(Jan=0, Feb=1, Mar=2, Apr=3, May=4, June=5, Jul=6, Aug=7, Sep=8, Oct=9, Nov=10, Dec=11)\n",
        "    with open(filename, newline='') as csvfile:\n",
        "        reader = csv.DictReader(csvfile)\n",
        "        for row in reader:\n",
        "            evidence.append([\n",
        "                int(row[\"Administrative\"]),\n",
        "                float(row[\"Administrative_Duration\"]),\n",
        "                int(row[\"Informational\"]),\n",
        "                float(row[\"Informational_Duration\"]),\n",
        "                int(row[\"ProductRelated\"]),\n",
        "                float(row[\"ProductRelated_Duration\"]),\n",
        "                float(row[\"BounceRates\"]),\n",
        "                float(row[\"ExitRates\"]),\n",
        "                float(row[\"PageValues\"]),\n",
        "                float(row[\"SpecialDay\"]),\n",
        "                month_to_int[row[\"Month\"]],\n",
        "                int(row[\"OperatingSystems\"]),\n",
        "                int(row[\"Browser\"]),\n",
        "                int(row[\"Region\"]),\n",
        "                int(row[\"TrafficType\"]),\n",
        "                1 if row[\"VisitorType\"] == \"Returning_Visitor\" else 0,\n",
        "                1 if row[\"Weekend\"] == \"TRUE\" else 0,\n",
        "            ])\n",
        "            labels.append(1 if row[\"Revenue\"] == \"TRUE\" else 0)\n",
        "    return evidence, labels"
      ],
      "execution_count": 12,
      "outputs": []
    },
    {
      "cell_type": "code",
      "metadata": {
        "id": "j5Vj0LmbdcYh"
      },
      "source": [
        "def train_model(evidence, labels):\n",
        "    \"\"\"\n",
        "    Given a list of evidence lists and a list of labels, return a\n",
        "    fitted k-nearest neighbor model (k=1) trained on the data.\n",
        "    \"\"\"\n",
        "    model = KNeighborsClassifier(n_neighbors=1)\n",
        "    model.fit(evidence, labels)\n",
        "    return model"
      ],
      "execution_count": 13,
      "outputs": []
    },
    {
      "cell_type": "code",
      "metadata": {
        "id": "3JimK60FdgOa"
      },
      "source": [
        "def evaluate(labels, predictions):\n",
        "    \"\"\"\n",
        "    Given a list of actual labels and a list of predicted labels,\n",
        "    return a tuple (sensitivity, specificty).\n",
        "    Assume each label is either a 1 (positive) or 0 (negative).\n",
        "    `sensitivity` should be a floating-point value from 0 to 1\n",
        "    representing the \"true positive rate\": the proportion of\n",
        "    actual positive labels that were accurately identified.\n",
        "    `specificity` should be a floating-point value from 0 to 1\n",
        "    representing the \"true negative rate\": the proportion of\n",
        "    actual negative labels that were accurately identified.\n",
        "    \"\"\"\n",
        "    sensitivity, specificity = float(0), float(0)\n",
        "    positive, negative = float(0), float(0)\n",
        "    for label, prediction in zip(labels, predictions):\n",
        "        if label == 1:\n",
        "            positive += 1\n",
        "            if label == prediction:\n",
        "                sensitivity += 1\n",
        "\n",
        "        if label == 0:\n",
        "            negative += 1\n",
        "            if label == prediction:\n",
        "                specificity += 1\n",
        "\n",
        "    sensitivity /= positive\n",
        "    specificity /= negative\n",
        "\n",
        "    return sensitivity, specificity"
      ],
      "execution_count": 14,
      "outputs": []
    }
  ]
}