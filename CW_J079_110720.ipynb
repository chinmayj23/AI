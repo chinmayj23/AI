{
  "nbformat": 4,
  "nbformat_minor": 0,
  "metadata": {
    "colab": {
      "name": "CW_J079_040720",
      "provenance": [],
      "authorship_tag": "ABX9TyMtILu4iD9KetqGCEClo1ff",
      "include_colab_link": true
    },
    "kernelspec": {
      "name": "python3",
      "display_name": "Python 3"
    }
  },
  "cells": [
    {
      "cell_type": "markdown",
      "metadata": {
        "id": "view-in-github",
        "colab_type": "text"
      },
      "source": [
        "<a href=\"https://colab.research.google.com/github/chinmayj23/AI/blob/master/CW_J079_110720.ipynb\" target=\"_parent\"><img src=\"https://colab.research.google.com/assets/colab-badge.svg\" alt=\"Open In Colab\"/></a>"
      ]
    },
    {
      "cell_type": "code",
      "metadata": {
        "id": "Ub647dUhxDae",
        "colab_type": "code",
        "colab": {
          "base_uri": "https://localhost:8080/",
          "height": 34
        },
        "outputId": "b4f0dc6a-2ab7-4f0e-f7b4-ec095d5033d0"
      },
      "source": [
        "a=2\n",
        "#list\n",
        "a=[1,2,3,4,\"ABC\"]\n",
        "type(a)"
      ],
      "execution_count": null,
      "outputs": [
        {
          "output_type": "execute_result",
          "data": {
            "text/plain": [
              "list"
            ]
          },
          "metadata": {
            "tags": []
          },
          "execution_count": 1
        }
      ]
    },
    {
      "cell_type": "code",
      "metadata": {
        "id": "8iULL2jg8m5p",
        "colab_type": "code",
        "colab": {
          "base_uri": "https://localhost:8080/",
          "height": 34
        },
        "outputId": "2391ecae-3247-4545-8cc6-7231670c86fc"
      },
      "source": [
        "#tuple\n",
        "a=(1,2,3,4,\"ABC\")\n",
        "type(a)"
      ],
      "execution_count": null,
      "outputs": [
        {
          "output_type": "execute_result",
          "data": {
            "text/plain": [
              "tuple"
            ]
          },
          "metadata": {
            "tags": []
          },
          "execution_count": 2
        }
      ]
    },
    {
      "cell_type": "code",
      "metadata": {
        "id": "VZfV4nhG8wmb",
        "colab_type": "code",
        "colab": {
          "base_uri": "https://localhost:8080/",
          "height": 34
        },
        "outputId": "ad65b383-e97f-4ec5-a973-46fba6e5c8ce"
      },
      "source": [
        "#set\n",
        "a={1,2,3,4,5,\"aBS\"}\n",
        "a\n",
        "#set cannot take another set inside it, nor can it take a list inside it.\n",
        "#a set is unordered, unless when it is printed.\n",
        "#so there cannot be indexing\n",
        "a.pop()\n",
        "#pop fn pops element at randdom\n",
        "5 in a\n",
        "8 in a \n"
      ],
      "execution_count": null,
      "outputs": [
        {
          "output_type": "execute_result",
          "data": {
            "text/plain": [
              "False"
            ]
          },
          "metadata": {
            "tags": []
          },
          "execution_count": 13
        }
      ]
    },
    {
      "cell_type": "markdown",
      "metadata": {
        "id": "4so-p6Y19wM8",
        "colab_type": "text"
      },
      "source": [
        "#dictionary : compilation of several features\n",
        "a={'list':[1,2,3,4,\"ABC\"],\n",
        "   'tuple':(1,2,3,4,\"ABC\"),\n",
        "   'set':{1,2,3,4,\"ABC\"}}\n",
        "a"
      ]
    },
    {
      "cell_type": "code",
      "metadata": {
        "id": "Pwa3SPgaVrhh",
        "colab_type": "code",
        "colab": {
          "base_uri": "https://localhost:8080/",
          "height": 34
        },
        "outputId": "d06620c2-b577-4238-ad0f-2c345e3bb7e9"
      },
      "source": [
        "## to remove a single variable from environment use (del variable name)  command\n",
        "int('111',3)  ##"
      ],
      "execution_count": 7,
      "outputs": [
        {
          "output_type": "execute_result",
          "data": {
            "text/plain": [
              "13"
            ]
          },
          "metadata": {
            "tags": []
          },
          "execution_count": 7
        }
      ]
    },
    {
      "cell_type": "code",
      "metadata": {
        "id": "4gpS5NZlV3rY",
        "colab_type": "code",
        "colab": {}
      },
      "source": [
        ""
      ],
      "execution_count": null,
      "outputs": []
    },
    {
      "cell_type": "code",
      "metadata": {
        "id": "U7vH5174BQBW",
        "colab_type": "code",
        "colab": {
          "base_uri": "https://localhost:8080/",
          "height": 35
        },
        "outputId": "6ad963ed-c2c4-4ceb-897a-8a21ece56a53"
      },
      "source": [
        "str(float(int('111',3)))"
      ],
      "execution_count": 3,
      "outputs": [
        {
          "output_type": "execute_result",
          "data": {
            "application/vnd.google.colaboratory.intrinsic": {
              "type": "string"
            },
            "text/plain": [
              "'13.0'"
            ]
          },
          "metadata": {
            "tags": []
          },
          "execution_count": 3
        }
      ]
    },
    {
      "cell_type": "code",
      "metadata": {
        "id": "FdgQJvmXCNXQ",
        "colab_type": "code",
        "colab": {
          "base_uri": "https://localhost:8080/",
          "height": 34
        },
        "outputId": "7717ec05-2fac-4da5-dbf6-1ba3b10b43e0"
      },
      "source": [
        "type('111')"
      ],
      "execution_count": 2,
      "outputs": [
        {
          "output_type": "execute_result",
          "data": {
            "text/plain": [
              "str"
            ]
          },
          "metadata": {
            "tags": []
          },
          "execution_count": 2
        }
      ]
    },
    {
      "cell_type": "code",
      "metadata": {
        "id": "xOfoTRssCrH0",
        "colab_type": "code",
        "colab": {
          "base_uri": "https://localhost:8080/",
          "height": 128
        },
        "outputId": "9f1b4fd8-3ff4-45e7-a549-f986a2a8af9c"
      },
      "source": [
        "def sum():\n",
        "  a='cj\n",
        "  legoo'    \n",
        "  # error is EOL-end of line  \n",
        "  #traceback"
      ],
      "execution_count": 5,
      "outputs": [
        {
          "output_type": "error",
          "ename": "SyntaxError",
          "evalue": "ignored",
          "traceback": [
            "\u001b[0;36m  File \u001b[0;32m\"<ipython-input-5-f2562d5e619b>\"\u001b[0;36m, line \u001b[0;32m3\u001b[0m\n\u001b[0;31m    ihoihoih'\u001b[0m\n\u001b[0m                 ^\u001b[0m\n\u001b[0;31mSyntaxError\u001b[0m\u001b[0;31m:\u001b[0m EOL while scanning string literal\n"
          ]
        }
      ]
    },
    {
      "cell_type": "code",
      "metadata": {
        "id": "uI-aRueaDfgx",
        "colab_type": "code",
        "colab": {}
      },
      "source": [
        "a_=4    ## for using reserve keywords\n",
        "__a__=5\n",
        "a=6\n",
        "_a=9  ##variable is intended for internal use (private variables)\n",
        "__a=91"
      ],
      "execution_count": 8,
      "outputs": []
    },
    {
      "cell_type": "code",
      "metadata": {
        "id": "6qqiNc0-W52l",
        "colab_type": "code",
        "colab": {}
      },
      "source": [
        "#public variable vs private\n",
        "  class human:\n",
        "# compositions of class\n",
        "   #1)attributes- variables-compulsory\n",
        "   #2)method/behaviour - functions-compulsory \n",
        "#Object is an instance of a class"
      ],
      "execution_count": null,
      "outputs": []
    },
    {
      "cell_type": "code",
      "metadata": {
        "id": "5b7X1xk1XCkn",
        "colab_type": "code",
        "colab": {
          "base_uri": "https://localhost:8080/",
          "height": 212
        },
        "outputId": "06fabe87-8662-45b7-9e02-6df29afe8faa"
      },
      "source": [
        "class Student: \n",
        "\n",
        "    def __init__(self, name): ##instantiates the object ##self is a keyword over here\n",
        "\n",
        "        self.__name = name \n",
        "\n",
        "  \n",
        "\n",
        "    def displayName(self): \n",
        "\n",
        "        print(self.__name) \n",
        "\n",
        "  \n",
        "\n",
        "s1 = Student(\"Santhosh\") \n",
        "\n",
        "s1.displayName() \n",
        "\n",
        "  \n",
        "\n",
        "# Raises an error \n",
        "\n",
        "print(s1.__name)"
      ],
      "execution_count": 9,
      "outputs": [
        {
          "output_type": "stream",
          "text": [
            "Santhosh\n"
          ],
          "name": "stdout"
        },
        {
          "output_type": "error",
          "ename": "AttributeError",
          "evalue": "ignored",
          "traceback": [
            "\u001b[0;31m---------------------------------------------------------------------------\u001b[0m",
            "\u001b[0;31mAttributeError\u001b[0m                            Traceback (most recent call last)",
            "\u001b[0;32m<ipython-input-9-0324d713c357>\u001b[0m in \u001b[0;36m<module>\u001b[0;34m()\u001b[0m\n\u001b[1;32m     21\u001b[0m \u001b[0;31m# Raises an error\u001b[0m\u001b[0;34m\u001b[0m\u001b[0;34m\u001b[0m\u001b[0;34m\u001b[0m\u001b[0m\n\u001b[1;32m     22\u001b[0m \u001b[0;34m\u001b[0m\u001b[0m\n\u001b[0;32m---> 23\u001b[0;31m \u001b[0mprint\u001b[0m\u001b[0;34m(\u001b[0m\u001b[0ms1\u001b[0m\u001b[0;34m.\u001b[0m\u001b[0m__name\u001b[0m\u001b[0;34m)\u001b[0m\u001b[0;34m\u001b[0m\u001b[0;34m\u001b[0m\u001b[0m\n\u001b[0m",
            "\u001b[0;31mAttributeError\u001b[0m: 'Student' object has no attribute '__name'"
          ]
        }
      ]
    },
    {
      "cell_type": "code",
      "metadata": {
        "id": "q-zXZyD-XPkI",
        "colab_type": "code",
        "colab": {
          "base_uri": "https://localhost:8080/",
          "height": 487
        },
        "outputId": "d8ee6a03-0fb4-4da5-cf12-0b8112afa362"
      },
      "source": [
        "dir(s1)"
      ],
      "execution_count": 10,
      "outputs": [
        {
          "output_type": "execute_result",
          "data": {
            "text/plain": [
              "['_Student__name',\n",
              " '__class__',\n",
              " '__delattr__',\n",
              " '__dict__',\n",
              " '__dir__',\n",
              " '__doc__',\n",
              " '__eq__',\n",
              " '__format__',\n",
              " '__ge__',\n",
              " '__getattribute__',\n",
              " '__gt__',\n",
              " '__hash__',\n",
              " '__init__',\n",
              " '__init_subclass__',\n",
              " '__le__',\n",
              " '__lt__',\n",
              " '__module__',\n",
              " '__ne__',\n",
              " '__new__',\n",
              " '__reduce__',\n",
              " '__reduce_ex__',\n",
              " '__repr__',\n",
              " '__setattr__',\n",
              " '__sizeof__',\n",
              " '__str__',\n",
              " '__subclasshook__',\n",
              " '__weakref__',\n",
              " 'displayName']"
            ]
          },
          "metadata": {
            "tags": []
          },
          "execution_count": 10
        }
      ]
    }
  ]
}