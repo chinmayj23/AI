{
  "nbformat": 4,
  "nbformat_minor": 0,
  "metadata": {
    "colab": {
      "name": "CW_J079_040720",
      "provenance": [],
      "authorship_tag": "ABX9TyO7hmn5AHHyilABtx6uYWX8",
      "include_colab_link": true
    },
    "kernelspec": {
      "name": "python3",
      "display_name": "Python 3"
    }
  },
  "cells": [
    {
      "cell_type": "markdown",
      "metadata": {
        "id": "view-in-github",
        "colab_type": "text"
      },
      "source": [
        "<a href=\"https://colab.research.google.com/github/chinmayj23/AI/blob/master/CW/CW_J079_040720.ipynb\" target=\"_parent\"><img src=\"https://colab.research.google.com/assets/colab-badge.svg\" alt=\"Open In Colab\"/></a>"
      ]
    },
    {
      "cell_type": "code",
      "metadata": {
        "id": "Ub647dUhxDae",
        "colab_type": "code",
        "colab": {
          "base_uri": "https://localhost:8080/",
          "height": 34
        },
        "outputId": "b4f0dc6a-2ab7-4f0e-f7b4-ec095d5033d0"
      },
      "source": [
        "a=2\n",
        "#list\n",
        "a=[1,2,3,4,\"ABC\"]\n",
        "type(a)"
      ],
      "execution_count": 1,
      "outputs": [
        {
          "output_type": "execute_result",
          "data": {
            "text/plain": [
              "list"
            ]
          },
          "metadata": {
            "tags": []
          },
          "execution_count": 1
        }
      ]
    },
    {
      "cell_type": "code",
      "metadata": {
        "id": "8iULL2jg8m5p",
        "colab_type": "code",
        "colab": {
          "base_uri": "https://localhost:8080/",
          "height": 34
        },
        "outputId": "2391ecae-3247-4545-8cc6-7231670c86fc"
      },
      "source": [
        "#tuple\n",
        "a=(1,2,3,4,\"ABC\")\n",
        "type(a)"
      ],
      "execution_count": 2,
      "outputs": [
        {
          "output_type": "execute_result",
          "data": {
            "text/plain": [
              "tuple"
            ]
          },
          "metadata": {
            "tags": []
          },
          "execution_count": 2
        }
      ]
    },
    {
      "cell_type": "code",
      "metadata": {
        "id": "VZfV4nhG8wmb",
        "colab_type": "code",
        "colab": {
          "base_uri": "https://localhost:8080/",
          "height": 34
        },
        "outputId": "ad65b383-e97f-4ec5-a973-46fba6e5c8ce"
      },
      "source": [
        "#set\n",
        "a={1,2,3,4,5,\"aBS\"}\n",
        "a\n",
        "#set cannot take another set inside it, nor can it take a list inside it.\n",
        "#a set is unordered, unless when it is printed.\n",
        "#so there cannot be indexing\n",
        "a.pop()\n",
        "#pop fn pops element at randdom\n",
        "5 in a\n",
        "8 in a \n"
      ],
      "execution_count": 13,
      "outputs": [
        {
          "output_type": "execute_result",
          "data": {
            "text/plain": [
              "False"
            ]
          },
          "metadata": {
            "tags": []
          },
          "execution_count": 13
        }
      ]
    },
    {
      "cell_type": "code",
      "metadata": {
        "id": "4so-p6Y19wM8",
        "colab_type": "code",
        "colab": {
          "base_uri": "https://localhost:8080/",
          "height": 67
        },
        "outputId": "dc9dc0f9-106e-4e65-f975-64b22d25c22e"
      },
      "source": [
        "#dictionary : compilation of several features\n",
        "a={'list':[1,2,3,4,\"ABC\"],\n",
        "   'tuple':(1,2,3,4,\"ABC\"),\n",
        "   'set':{1,2,3,4,\"ABC\"}}\n",
        "a"
      ],
      "execution_count": 11,
      "outputs": [
        {
          "output_type": "execute_result",
          "data": {
            "text/plain": [
              "{'list': [1, 2, 3, 4, 'ABC'],\n",
              " 'set': {1, 2, 3, 4, 'ABC'},\n",
              " 'tuple': (1, 2, 3, 4, 'ABC')}"
            ]
          },
          "metadata": {
            "tags": []
          },
          "execution_count": 11
        }
      ]
    }
  ]
}