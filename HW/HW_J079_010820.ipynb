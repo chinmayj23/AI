{
  "nbformat": 4,
  "nbformat_minor": 0,
  "metadata": {
    "colab": {
      "name": "HW_J079_010820.ipynb",
      "provenance": [],
      "authorship_tag": "ABX9TyNy4QtLcGuJRSUzWdkVTDrR",
      "include_colab_link": true
    },
    "kernelspec": {
      "name": "python3",
      "display_name": "Python 3"
    }
  },
  "cells": [
    {
      "cell_type": "markdown",
      "metadata": {
        "id": "view-in-github",
        "colab_type": "text"
      },
      "source": [
        "<a href=\"https://colab.research.google.com/github/chinmayj23/AI/blob/master/HW/HW_J079_010820.ipynb\" target=\"_parent\"><img src=\"https://colab.research.google.com/assets/colab-badge.svg\" alt=\"Open In Colab\"/></a>"
      ]
    },
    {
      "cell_type": "code",
      "metadata": {
        "id": "c6e2bLf_dvUt",
        "colab_type": "code",
        "colab": {
          "base_uri": "https://localhost:8080/",
          "height": 50
        },
        "outputId": "051de202-a078-455a-a529-5793a4687d34"
      },
      "source": [
        "#Q1: Postal code validation \n",
        "regex_integer_in_range = r\"^[1-9][0-9]{5}$\" #'^'denotes 'starting with','[1-9]'denotes the starting number could be anything between 1 to 9, '[0,9]{5}'indicates the next 5 occurences in the expression could be any digit between 1 to 9. '$' denotes 'end' \n",
        "regex_alternating_repetitive_digit_pair = r\"(\\d)(?=.\\1)\" #'\\d' is any digit, followed by '.' or any random digit or value and check if it matches '?=' with the same digit '\\1'. '\\1' is a reference to the digit of '\\d'\n",
        "#solution without usig regex, but only fulfills 4 test cases: regex_integer_in_range = r\"100000 <= int(P) < 1000000\"\t# Do not delete 'r'.'\\n'regex_alternating_repetitive_digit_pair = r\"[(P[i] == P[i+2] for i in range(0, 4))] < 2\"\t# Do not delete 'r'.\n",
        "\n",
        "import re\n",
        "P = input()\n",
        "\n",
        "print (bool(re.match(regex_integer_in_range, P)) \n",
        "and len(re.findall(regex_alternating_repetitive_digit_pair, P)) < 2)"
      ],
      "execution_count": 14,
      "outputs": [
        {
          "output_type": "stream",
          "text": [
            "400072\n",
            "True\n"
          ],
          "name": "stdout"
        }
      ]
    },
    {
      "cell_type": "code",
      "metadata": {
        "id": "vlVjWNVE4Pmh",
        "colab_type": "code",
        "colab": {}
      },
      "source": [
        "#Q2: sherlock\n",
        "#!/bin/python\n",
        "\n",
        "import math\n",
        "import os\n",
        "import random\n",
        "import re\n",
        "import sys\n",
        "\n",
        "# Complete the cost function below.\n",
        "def cost(B):   \n",
        "    max1, max2 = 0, 0 #iitilalize 2 variables to 0\n",
        "    for i in range(1,len(B)):\n",
        "        curr, prev = B[i], B[i-1] #set the first 2 indices\n",
        "        newmax1 = max(max1 + abs(curr - prev), max2 + (curr - 1)) #this provides the maximum difference among the two highest index values and one highest and lowest index vallue\n",
        "        newmax2 = max(max1 + abs(1 - prev), max2)\n",
        "        max1, max2 = newmax1, newmax2    \n",
        "    return(max(max1, max2))\n",
        "\n",
        "if __name__ == '__main__':\n",
        "    fptr = open(os.environ['OUTPUT_PATH'], 'w')\n",
        "\n",
        "    t = int(raw_input())\n",
        "\n",
        "    for t_itr in xrange(t):\n",
        "        n = int(raw_input())\n",
        "\n",
        "        B = map(int, raw_input().rstrip().split())\n",
        "\n",
        "        result = cost(B)\n",
        "\n",
        "        fptr.write(str(result) + '\\n')\n",
        "\n",
        "    fptr.close()\n"
      ],
      "execution_count": null,
      "outputs": []
    },
    {
      "cell_type": "code",
      "metadata": {
        "id": "F8tNugQ1lPjL",
        "colab_type": "code",
        "colab": {
          "base_uri": "https://localhost:8080/",
          "height": 67
        },
        "outputId": "b4ead330-25c3-46cb-fa1a-b9ed3d23842d"
      },
      "source": [
        "#Q3:coin\n",
        "\n",
        "import math\n",
        "import os\n",
        "import random\n",
        "import re\n",
        "import sys\n",
        "\n",
        "#\n",
        "# Complete the 'getWays' function below.\n",
        "#\n",
        "# The function is expected to return a LONG_INTEGER.\n",
        "# The function accepts following parameters:\n",
        "#  1. INTEGER n\n",
        "#  2. LONG_INTEGER_ARRAY c\n",
        "#\n",
        "\n",
        "def getWays(n, c):\n",
        "    # Write your code here                                                 \n",
        "    list1 = [0 for k in range(n+1)]                             \n",
        "    list1[0] = 1                                        \n",
        "    for i in range(0,m):                                        \n",
        "        for j in range(c[i],n+1): \n",
        "            list1[j] += list1[j-c[i]] \n",
        "  \n",
        "    return list1[n]  \n",
        "\n",
        "if __name__ == '__main__':\n",
        "    #fptr = sys.stdout\n",
        "\n",
        "    first_multiple_input = input().rstrip().split()\n",
        "\n",
        "    n = int(first_multiple_input[0])\n",
        "\n",
        "    m = int(first_multiple_input[1])\n",
        "\n",
        "    d = input()\n",
        "    c= [int(i) for i in d.split()]\n",
        "\n",
        "    # Print the number of ways of making change for 'n' units using coins having the values given by 'c'\n",
        "\n",
        "    ways = getWays(n, c)\n",
        "    print(ways)\n",
        "\n",
        "    #fptr.write(str(ways) + '\\n')\n",
        "\n",
        "    #fptr.close()\n"
      ],
      "execution_count": 3,
      "outputs": [
        {
          "output_type": "stream",
          "text": [
            "4 3\n",
            "1 2 3\n",
            "4\n"
          ],
          "name": "stdout"
        }
      ]
    }
  ]
}