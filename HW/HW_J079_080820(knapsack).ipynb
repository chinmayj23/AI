{
  "nbformat": 4,
  "nbformat_minor": 0,
  "metadata": {
    "colab": {
      "name": "HW_J079_080820(knapsack).ipynb",
      "provenance": [],
      "authorship_tag": "ABX9TyNqYTrquBr4XAwoH+TacJG8",
      "include_colab_link": true
    },
    "kernelspec": {
      "name": "python3",
      "display_name": "Python 3"
    }
  },
  "cells": [
    {
      "cell_type": "markdown",
      "metadata": {
        "id": "view-in-github",
        "colab_type": "text"
      },
      "source": [
        "<a href=\"https://colab.research.google.com/github/chinmayj23/AI/blob/master/HW/HW_J079_080820(knapsack).ipynb\" target=\"_parent\"><img src=\"https://colab.research.google.com/assets/colab-badge.svg\" alt=\"Open In Colab\"/></a>"
      ]
    },
    {
      "cell_type": "code",
      "metadata": {
        "id": "YO1pMEgyi6Q7",
        "colab_type": "code",
        "colab": {
          "base_uri": "https://localhost:8080/",
          "height": 84
        },
        "outputId": "4132325f-abe9-44c9-8379-f4d41a0eabe1"
      },
      "source": [
        "n=int(input(\"no. of weights: \"))\n",
        "weight=list(map(int,input(\"Enter the weights\").split()))[:n]\n",
        "val=list(map(int,input(\"Enter values of weight\").split()))[:n]\n",
        "w=int(input(\"enter maximum weight\"))\n"
      ],
      "execution_count": 20,
      "outputs": [
        {
          "output_type": "stream",
          "text": [
            "no. of weights: 3\n",
            "Enter the weights12 13 14\n",
            "Enter values of weight1 2 3\n",
            "enter maximum weight50\n"
          ],
          "name": "stdout"
        }
      ]
    },
    {
      "cell_type": "code",
      "metadata": {
        "id": "QKaZzpWHpWHl",
        "colab_type": "code",
        "colab": {}
      },
      "source": [
        "import numpy as np"
      ],
      "execution_count": 23,
      "outputs": []
    },
    {
      "cell_type": "code",
      "metadata": {
        "id": "8mV2UvXCl4fY",
        "colab_type": "code",
        "colab": {}
      },
      "source": [
        "def knapSack(w, weight, val, n):\n",
        "\n",
        "    m=np.zeros((n+1,w+1))\n",
        "    for i in range(n + 1): \n",
        "      for j in range(w + 1):\n",
        "        if i == 0 or j == 0: \n",
        "          m[i][j] = 0\n",
        "        elif weight[i-1] <= j: \n",
        "          m[i][j] = max(val[i-1]+m[i-1][j-weight[i-1]], m[i-1][j]) \n",
        "        else: \n",
        "           m[i][j] = m[i-1][j] \n",
        "  \n",
        "    return m[n][w] "
      ],
      "execution_count": 34,
      "outputs": []
    },
    {
      "cell_type": "code",
      "metadata": {
        "id": "GCy07OU3wLyo",
        "colab_type": "code",
        "colab": {
          "base_uri": "https://localhost:8080/",
          "height": 34
        },
        "outputId": "4ee3f32b-5aa7-443d-d54d-78f61f00c08a"
      },
      "source": [
        "knapSack(w,weight,val,n)"
      ],
      "execution_count": 35,
      "outputs": [
        {
          "output_type": "execute_result",
          "data": {
            "text/plain": [
              "6.0"
            ]
          },
          "metadata": {
            "tags": []
          },
          "execution_count": 35
        }
      ]
    }
  ]
}