{
  "nbformat": 4,
  "nbformat_minor": 0,
  "metadata": {
    "colab": {
      "name": "HW_J079_040720",
      "provenance": [],
      "authorship_tag": "ABX9TyPrd+tRQ8Wh5DjBKi7+JiVR",
      "include_colab_link": true
    },
    "kernelspec": {
      "name": "python3",
      "display_name": "Python 3"
    }
  },
  "cells": [
    {
      "cell_type": "markdown",
      "metadata": {
        "id": "view-in-github",
        "colab_type": "text"
      },
      "source": [
        "<a href=\"https://colab.research.google.com/github/chinmayj23/AI/blob/master/HW/HW_J079_040720.ipynb\" target=\"_parent\"><img src=\"https://colab.research.google.com/assets/colab-badge.svg\" alt=\"Open In Colab\"/></a>"
      ]
    },
    {
      "cell_type": "code",
      "metadata": {
        "id": "if4RTZIKr1nd",
        "colab_type": "code",
        "colab": {
          "base_uri": "https://localhost:8080/",
          "height": 50
        },
        "outputId": "0520960d-bf9e-48b0-9bec-d26ddf7c0ddd"
      },
      "source": [
        "#Q1\n",
        "n = int(input())\n",
        "if (n%2)==0 and n in range(2,6) :\n",
        "    print(\"Not Weird\")\n",
        "elif (n%2)==0 and n>20:\n",
        "    print(\"Not Weird\")\n",
        "elif (n%2)==1:\n",
        "    print(\"Weird\")\n",
        "elif (n%2)==0 and n in range(6,21):\n",
        "    print(\"Weird\")\n",
        "else:\n",
        "    print(\"invalid output\")\n"
      ],
      "execution_count": 4,
      "outputs": [
        {
          "output_type": "stream",
          "text": [
            "5\n",
            "Weird\n"
          ],
          "name": "stdout"
        }
      ]
    },
    {
      "cell_type": "code",
      "metadata": {
        "id": "jXFE2iuTU-tI",
        "colab_type": "code",
        "colab": {
          "base_uri": "https://localhost:8080/",
          "height": 101
        },
        "outputId": "dc580698-b2db-4749-f7cd-50cc4a444eba"
      },
      "source": [
        "#Q2\n",
        "if __name__ == '__main__':\n",
        "    a = int(input())\n",
        "    b = int(input())\n",
        "    add=a+b\n",
        "    diff=a-b\n",
        "    mul=a*b\n",
        "    print(add)\n",
        "    print(diff)\n",
        "    print(mul)"
      ],
      "execution_count": 6,
      "outputs": [
        {
          "output_type": "stream",
          "text": [
            "7\n",
            "8\n",
            "15\n",
            "-1\n",
            "56\n"
          ],
          "name": "stdout"
        }
      ]
    },
    {
      "cell_type": "code",
      "metadata": {
        "id": "osmewgLippxb",
        "colab_type": "code",
        "colab": {
          "base_uri": "https://localhost:8080/",
          "height": 84
        },
        "outputId": "211c669f-2423-483e-ca7d-550381c8067a"
      },
      "source": [
        "#Q3\n",
        "from __future__ import division\n",
        "\n",
        "if __name__ == '__main__':\n",
        "    a = int(input())\n",
        "    b = int(input())\n",
        "\n",
        "print (a//b)\n",
        "print (a/b)\n"
      ],
      "execution_count": 9,
      "outputs": [
        {
          "output_type": "stream",
          "text": [
            "8\n",
            "3\n",
            "2\n",
            "2.6666666666666665\n"
          ],
          "name": "stdout"
        }
      ]
    },
    {
      "cell_type": "code",
      "metadata": {
        "id": "HcNRNWrBp3WQ",
        "colab_type": "code",
        "colab": {
          "base_uri": "https://localhost:8080/",
          "height": 118
        },
        "outputId": "96710507-ed8d-4f7d-ddb7-3254d85fac59"
      },
      "source": [
        "#Q4\n",
        "if __name__ == '__main__':\n",
        "    n = int(input())\n",
        "for i in range(n):\n",
        "    print (i*i)\n"
      ],
      "execution_count": 10,
      "outputs": [
        {
          "output_type": "stream",
          "text": [
            "5\n",
            "0\n",
            "1\n",
            "4\n",
            "9\n",
            "16\n"
          ],
          "name": "stdout"
        }
      ]
    },
    {
      "cell_type": "code",
      "metadata": {
        "id": "Kb4tprgTqC9U",
        "colab_type": "code",
        "colab": {
          "base_uri": "https://localhost:8080/",
          "height": 50
        },
        "outputId": "91b19320-6ffa-462b-ffcb-06efcc85b2e4"
      },
      "source": [
        "#Q5\n",
        "def is_leap(year):\n",
        "    \n",
        "    if (year%4)==0  :\n",
        "        if (year%100)==0:\n",
        "            if (year%400)==0:\n",
        "                return True\n",
        "            else:\n",
        "                return False\n",
        "        else:\n",
        "            return True     \n",
        "    else:\n",
        "       return False\n",
        "    \n",
        "\n",
        "year = int(input())\n",
        "print (is_leap(year))\n",
        "    "
      ],
      "execution_count": 12,
      "outputs": [
        {
          "output_type": "stream",
          "text": [
            "1990\n",
            "False\n"
          ],
          "name": "stdout"
        }
      ]
    },
    {
      "cell_type": "code",
      "metadata": {
        "id": "lWAZaQz4qghN",
        "colab_type": "code",
        "colab": {
          "base_uri": "https://localhost:8080/",
          "height": 50
        },
        "outputId": "fd577291-6b79-4a58-ff49-54d8716d0190"
      },
      "source": [
        "#Q6\n",
        "from __future__ import print_function\n",
        "\n",
        "if __name__ == '__main__':\n",
        "    n = int(input())\n",
        "\n",
        "for i in range(1,(n+1)):\n",
        "    print (i,end=''), \n"
      ],
      "execution_count": 13,
      "outputs": [
        {
          "output_type": "stream",
          "text": [
            "3\n",
            "123"
          ],
          "name": "stdout"
        }
      ]
    },
    {
      "cell_type": "code",
      "metadata": {
        "id": "pi0DC0Igqtfq",
        "colab_type": "code",
        "colab": {
          "base_uri": "https://localhost:8080/",
          "height": 101
        },
        "outputId": "cd9897bb-ec71-438b-84a3-8e53aec11b90"
      },
      "source": [
        "#Q7\n",
        "if __name__ == '__main__':\n",
        "    x = int(input())\n",
        "    y = int(input())\n",
        "    z = int(input())\n",
        "    n = int(input())\n",
        "    a=[[i,j,k] \n",
        "    for i in range (x+1) \n",
        "    for j in range (y+1) \n",
        "    for k in range (z+1) \n",
        "    if i+j+k!=n ]\n",
        "    print (a)"
      ],
      "execution_count": 16,
      "outputs": [
        {
          "output_type": "stream",
          "text": [
            "1\n",
            "1\n",
            "2\n",
            "1\n",
            "[[0, 0, 0], [0, 0, 2], [0, 1, 1], [0, 1, 2], [1, 0, 1], [1, 0, 2], [1, 1, 0], [1, 1, 1], [1, 1, 2]]\n"
          ],
          "name": "stdout"
        }
      ]
    }
  ]
}