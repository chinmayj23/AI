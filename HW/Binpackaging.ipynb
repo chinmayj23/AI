{
  "nbformat": 4,
  "nbformat_minor": 0,
  "metadata": {
    "colab": {
      "name": "Bin packaging.ipynb",
      "provenance": [],
      "authorship_tag": "ABX9TyO2s5WpfZ34MxNjfiBg2B6u",
      "include_colab_link": true
    },
    "kernelspec": {
      "name": "python3",
      "display_name": "Python 3"
    }
  },
  "cells": [
    {
      "cell_type": "markdown",
      "metadata": {
        "id": "view-in-github",
        "colab_type": "text"
      },
      "source": [
        "<a href=\"https://colab.research.google.com/github/chinmayj23/AI/blob/master/HW/Binpackaging.ipynb\" target=\"_parent\"><img src=\"https://colab.research.google.com/assets/colab-badge.svg\" alt=\"Open In Colab\"/></a>"
      ]
    },
    {
      "cell_type": "code",
      "metadata": {
        "id": "yYPg9jirVbZ_",
        "colab_type": "code",
        "colab": {}
      },
      "source": [
        "import pandas as pd"
      ],
      "execution_count": 18,
      "outputs": []
    },
    {
      "cell_type": "code",
      "metadata": {
        "id": "xOsBlpy0Pt6l",
        "colab_type": "code",
        "colab": {
          "base_uri": "https://localhost:8080/",
          "height": 34
        },
        "outputId": "7674098d-33d6-402c-838a-912f809a1723"
      },
      "source": [
        "\n",
        "def BestFit(weight, n, c): \n",
        "    weight.sort()\n",
        "\n",
        "    res = 0; #result \n",
        "    bin_rem = [0]*n; # Create an array to store remaining space in bins and there can be at most n bins\n",
        "  \n",
        "    for i in range(n):  #traversing through the item\n",
        "        j = 0;  \n",
        "        min = c + 1; # Initialize minimum space left and index \n",
        "        bi = 0; \n",
        "  \n",
        "        for j in range(res): \n",
        "            if (bin_rem[j] >= weight[i] and bin_rem[j] - weight[i] < min): \n",
        "                index = j; \n",
        "                min = bin_rem[j] - weight[i]; \n",
        "              \n",
        "        # If no bin could accommodate weight[i], \n",
        "        # create a new bin \n",
        "        if (min == c + 1): \n",
        "            bin_rem[res] = c - weight[i]; \n",
        "            res += 1; \n",
        "        else: # Assign the item to best bin \n",
        "            bin_rem[index] -= weight[i]; \n",
        "    return res; \n",
        "  \n",
        "if __name__ == '__main__': \n",
        "    weight = [ 2, 5, 4, 7, 1, 3, 8 ]; \n",
        "    c = 10; \n",
        "    n = len(weight); \n",
        "    print(\"Number of bins required in Best Fit : \", BestFit(weight, n, c)); \n",
        "      "
      ],
      "execution_count": 19,
      "outputs": [
        {
          "output_type": "stream",
          "text": [
            "Number of bins required in Best Fit :  4\n"
          ],
          "name": "stdout"
        }
      ]
    }
  ]
}